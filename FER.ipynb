{
  "nbformat": 4,
  "nbformat_minor": 0,
  "metadata": {
    "colab": {
      "name": "Копия блокнота \"FER_Final.ipynb\"",
      "provenance": [],
      "collapsed_sections": []
    },
    "kernelspec": {
      "name": "python3",
      "display_name": "Python 3"
    },
    "language_info": {
      "name": "python"
    },
    "accelerator": "GPU"
  },
  "cells": [
    {
      "cell_type": "code",
      "metadata": {
        "id": "Lm2cySc0_lhZ"
      },
      "source": [
        "# импорт необходимых библиотек\n",
        "\n",
        "import pandas as pd\n",
        "import tensorflow as tf\n",
        "import tensorflow.keras\n",
        "import keras\n",
        "\n",
        "from tensorflow.keras.utils import to_categorical\n",
        "from keras.models import Model, Sequential, load_model, model_from_json\n",
        "from keras.layers import Input, Dense, Conv2D, Flatten, MaxPool2D, AveragePooling2D\n",
        "from keras.layers import Activation, Dropout, BatchNormalization, GlobalMaxPooling2D\n",
        "from keras.preprocessing import image\n",
        "from keras.preprocessing.image import ImageDataGenerator\n",
        "from tensorflow.keras.callbacks import EarlyStopping\n",
        "\n",
        "\n",
        "import cv2\n",
        "import numpy as np\n",
        "from imutils import paths\n",
        "import os\n",
        "import json\n",
        "import scipy.misc\n",
        "\n",
        "import matplotlib.pyplot as plt"
      ],
      "execution_count": null,
      "outputs": []
    },
    {
      "cell_type": "code",
      "metadata": {
        "colab": {
          "base_uri": "https://localhost:8080/"
        },
        "id": "uB1e_aGu_wVV",
        "outputId": "3e548112-9636-45a4-ffd1-25bb6c980fab"
      },
      "source": [
        "from google.colab import drive\n",
        "drive.mount('/content/drive')"
      ],
      "execution_count": null,
      "outputs": [
        {
          "output_type": "stream",
          "text": [
            "Mounted at /content/drive\n"
          ],
          "name": "stdout"
        }
      ]
    },
    {
      "cell_type": "code",
      "metadata": {
        "id": "XSNWFyqS_4ii"
      },
      "source": [
        "version = \"FER_V1_\"\n",
        "num_classes = 7 #angry, disgust, fear, happy, sad, surprise, neutral\n",
        "bs = 200 #Размер минивыборки\n",
        "epochs_vgg = 56 #количество эпох для модели\n",
        "patience = 15\n",
        "optimizer = keras.optimizers.Adam() # оптимизатор (Adam,Nadam,Adamax, Adadelta)\n",
        "\n",
        "ds1_path = \"/content/drive/My Drive/FER_DATA/fer2013.csv\" #путь к 1 набору данных (FER_2013)\n",
        "ds2_path = \"/content/drive/My Drive/FER_DATA/emotion_compilation.zip\" #путь к 2 набору данных\n",
        "\n",
        "model_vgg_path = \"/content/drive/My Drive/FER_MODEL/model_vgg_\"\n",
        "model_vgg_plus_path = \"/content/drive/My Drive/FER_MODEL/model_vgg_plus_\"\n",
        "model_vgg_tuner_path = \"/content/drive/My Drive/FER_MODEL/model_vgg_tuner_\"\n",
        "\n",
        "#TRUE чтобы обучить     FALSE чтобы взять готовые веса\n",
        "fit_vgg = True   \n",
        "fit_vgg_plus = False\n",
        "fit_vgg_tuner = False"
      ],
      "execution_count": null,
      "outputs": []
    },
    {
      "cell_type": "code",
      "metadata": {
        "id": "cxFUb0M9AIAN"
      },
      "source": [
        "import zipfile\n",
        "with zipfile.ZipFile('/content/drive/My Drive/FER_DATA/fer2013.zip', 'r') as zip_ref:\n",
        "    zip_ref.extractall('/content/drive/My Drive/FER_DATA/')\n"
      ],
      "execution_count": null,
      "outputs": []
    },
    {
      "cell_type": "code",
      "metadata": {
        "id": "9riZqJk23_S0"
      },
      "source": [
        "#cpu - gpu config\n",
        "config = tf.compat.v1.ConfigProto(device_count = {'GPU': 1, 'CPU': 4})\n",
        "sess = tf.compat.v1.Session(config=config)\n",
        "tf.compat.v1.keras.backend.set_session(sess)"
      ],
      "execution_count": null,
      "outputs": []
    },
    {
      "cell_type": "code",
      "metadata": {
        "id": "UlH98zLYALzd"
      },
      "source": [
        "df_fer = pd.read_csv(ds1_path)\n",
        "df_ec = ds2_path"
      ],
      "execution_count": null,
      "outputs": []
    },
    {
      "cell_type": "code",
      "metadata": {
        "colab": {
          "base_uri": "https://localhost:8080/",
          "height": 284
        },
        "id": "xBtCIbwbAN9b",
        "outputId": "f9d30a6b-cd64-4cd7-f1a2-c51b1472ba71"
      },
      "source": [
        "import matplotlib.pyplot as plt\n",
        "face = np.array(df_fer['pixels'])[35]\n",
        "face = np.array([el for el in face.split(' ')]).astype(np.float32) \n",
        "face = face.reshape(48, 48)\n",
        "plt.imshow(face, cmap='gray', vmin=0, vmax=255)"
      ],
      "execution_count": null,
      "outputs": [
        {
          "output_type": "execute_result",
          "data": {
            "text/plain": [
              "<matplotlib.image.AxesImage at 0x7fdee02824d0>"
            ]
          },
          "metadata": {
            "tags": []
          },
          "execution_count": 7
        },
        {
          "output_type": "display_data",
          "data": {
            "image/png": "[encoded data removed]",
            "text/plain": [
              "<Figure size 432x288 with 1 Axes>"
            ]
          },
          "metadata": {
            "tags": [],
            "needs_background": "light"
          }
        }
      ]
    },
    {
      "cell_type": "code",
      "metadata": {
        "id": "iASsaJNwARyg"
      },
      "source": [
        "f = open (ds1_path)\n",
        "content = f.readlines()\n",
        "lines = np.array(content)\n"
      ],
      "execution_count": null,
      "outputs": []
    },
    {
      "cell_type": "code",
      "metadata": {
        "colab": {
          "base_uri": "https://localhost:8080/"
        },
        "id": "BGzZG6AzFtks",
        "outputId": "22d8c75a-0a4b-44b8-d615-965d3ce57ac2"
      },
      "source": [
        "df_fer.info()"
      ],
      "execution_count": null,
      "outputs": [
        {
          "output_type": "stream",
          "text": [
            "<class 'pandas.core.frame.DataFrame'>\n",
            "RangeIndex: 35887 entries, 0 to 35886\n",
            "Data columns (total 3 columns):\n",
            " #   Column   Non-Null Count  Dtype \n",
            "---  ------   --------------  ----- \n",
            " 0   emotion  35887 non-null  int64 \n",
            " 1   pixels   35887 non-null  object\n",
            " 2   Usage    35887 non-null  object\n",
            "dtypes: int64(1), object(2)\n",
            "memory usage: 841.2+ KB\n"
          ],
          "name": "stdout"
        }
      ]
    },
    {
      "cell_type": "code",
      "metadata": {
        "colab": {
          "base_uri": "https://localhost:8080/",
          "height": 204
        },
        "id": "aw_K3XrAAUKG",
        "outputId": "aa0cd167-7f1f-45a7-c644-38d8f1f9b573"
      },
      "source": [
        "df_fer.head()"
      ],
      "execution_count": null,
      "outputs": [
        {
          "output_type": "execute_result",
          "data": {
            "text/html": [
              "<div>\n",
              "<style scoped>\n",
              "    .dataframe tbody tr th:only-of-type {\n",
              "        vertical-align: middle;\n",
              "    }\n",
              "\n",
              "    .dataframe tbody tr th {\n",
              "        vertical-align: top;\n",
              "    }\n",
              "\n",
              "    .dataframe thead th {\n",
              "        text-align: right;\n",
              "    }\n",
              "</style>\n",
              "<table border=\"1\" class=\"dataframe\">\n",
              "  <thead>\n",
              "    <tr style=\"text-align: right;\">\n",
              "      <th></th>\n",
              "      <th>emotion</th>\n",
              "      <th>pixels</th>\n",
              "      <th>Usage</th>\n",
              "    </tr>\n",
              "  </thead>\n",
              "  <tbody>\n",
              "    <tr>\n",
              "      <th>0</th>\n",
              "      <td>0</td>\n",
              "      <td>70 80 82 72 58 58 60 63 54 58 60 48 89 115 121...</td>\n",
              "      <td>Training</td>\n",
              "    </tr>\n",
              "    <tr>\n",
              "      <th>1</th>\n",
              "      <td>0</td>\n",
              "      <td>151 150 147 155 148 133 111 140 170 174 182 15...</td>\n",
              "      <td>Training</td>\n",
              "    </tr>\n",
              "    <tr>\n",
              "      <th>2</th>\n",
              "      <td>2</td>\n",
              "      <td>231 212 156 164 174 138 161 173 182 200 106 38...</td>\n",
              "      <td>Training</td>\n",
              "    </tr>\n",
              "    <tr>\n",
              "      <th>3</th>\n",
              "      <td>4</td>\n",
              "      <td>24 32 36 30 32 23 19 20 30 41 21 22 32 34 21 1...</td>\n",
              "      <td>Training</td>\n",
              "    </tr>\n",
              "    <tr>\n",
              "      <th>4</th>\n",
              "      <td>6</td>\n",
              "      <td>4 0 0 0 0 0 0 0 0 0 0 0 3 15 23 28 48 50 58 84...</td>\n",
              "      <td>Training</td>\n",
              "    </tr>\n",
              "  </tbody>\n",
              "</table>\n",
              "</div>"
            ],
            "text/plain": [
              "   emotion                                             pixels     Usage\n",
              "0        0  70 80 82 72 58 58 60 63 54 58 60 48 89 115 121...  Training\n",
              "1        0  151 150 147 155 148 133 111 140 170 174 182 15...  Training\n",
              "2        2  231 212 156 164 174 138 161 173 182 200 106 38...  Training\n",
              "3        4  24 32 36 30 32 23 19 20 30 41 21 22 32 34 21 1...  Training\n",
              "4        6  4 0 0 0 0 0 0 0 0 0 0 0 3 15 23 28 48 50 58 84...  Training"
            ]
          },
          "metadata": {
            "tags": []
          },
          "execution_count": 10
        }
      ]
    },
    {
      "cell_type": "code",
      "metadata": {
        "colab": {
          "base_uri": "https://localhost:8080/"
        },
        "id": "hmM53o5mAWGn",
        "outputId": "d3028170-f97f-4bcd-d9b7-d04d855606f3"
      },
      "source": [
        "# вывод количества записей\n",
        "num_of_instances = lines.size\n",
        "print(\"В наборе FER_2013.csv:\", num_of_instances, \" записей\", df_fer.shape)"
      ],
      "execution_count": null,
      "outputs": [
        {
          "output_type": "stream",
          "text": [
            "В наборе FER_2013.csv: 35888  записей (35887, 3)\n"
          ],
          "name": "stdout"
        }
      ]
    },
    {
      "cell_type": "code",
      "metadata": {
        "colab": {
          "base_uri": "https://localhost:8080/"
        },
        "id": "RikpKHSXAYIj",
        "outputId": "e391d163-ec28-4091-f284-735ae2ba5d1e"
      },
      "source": [
        "df_fer.Usage.value_counts()"
      ],
      "execution_count": null,
      "outputs": [
        {
          "output_type": "execute_result",
          "data": {
            "text/plain": [
              "Training       28709\n",
              "PublicTest      3589\n",
              "PrivateTest     3589\n",
              "Name: Usage, dtype: int64"
            ]
          },
          "metadata": {
            "tags": []
          },
          "execution_count": 12
        }
      ]
    },
    {
      "cell_type": "code",
      "metadata": {
        "colab": {
          "base_uri": "https://localhost:8080/"
        },
        "id": "IVGpob8aGQTR",
        "outputId": "141ef946-733a-4e11-f4e7-e0e07ab96f60"
      },
      "source": [
        "# Поиск и удаление дубликатов\n",
        "df_fer = df_fer.drop_duplicates()\n",
        "df_fer = df_fer.dropna()\n",
        "df_fer.shape"
      ],
      "execution_count": null,
      "outputs": [
        {
          "output_type": "execute_result",
          "data": {
            "text/plain": [
              "(34653, 3)"
            ]
          },
          "metadata": {
            "tags": []
          },
          "execution_count": 13
        }
      ]
    },
    {
      "cell_type": "code",
      "metadata": {
        "colab": {
          "base_uri": "https://localhost:8080/"
        },
        "id": "TFvnnVAcGSeQ",
        "outputId": "15363834-6fd9-46f1-a34b-f3fccbdd3a28"
      },
      "source": [
        "# Поиск пропусков\n",
        "print(\"Процент отсутствующих данных в наборе FER_2013\")\n",
        "for col in df_fer.columns:\n",
        "    pct_missing = np.mean(df_fer[col].isnull())\n",
        "    print('{} - {}%'.format(col, round(pct_missing*100)))"
      ],
      "execution_count": null,
      "outputs": [
        {
          "output_type": "stream",
          "text": [
            "Процент отсутствующих данных в наборе FER_2013\n",
            "emotion - 0%\n",
            "pixels - 0%\n",
            "Usage - 0%\n"
          ],
          "name": "stdout"
        }
      ]
    },
    {
      "cell_type": "code",
      "metadata": {
        "colab": {
          "base_uri": "https://localhost:8080/"
        },
        "id": "sxS8v7-BAaXH",
        "outputId": "b99d21f5-b3ad-4e74-fda6-db070c19e6f6"
      },
      "source": [
        "#Количество пикселей в изображении 48х48=2304\n",
        "print(\"instance length:  \", len(lines[1].split(\",\")[1].split(\" \")))"
      ],
      "execution_count": null,
      "outputs": [
        {
          "output_type": "stream",
          "text": [
            "instance length:   2304\n"
          ],
          "name": "stdout"
        }
      ]
    },
    {
      "cell_type": "code",
      "metadata": {
        "colab": {
          "base_uri": "https://localhost:8080/"
        },
        "id": "cf6AP4kNXgnB",
        "outputId": "6dbdaf12-21ad-4c30-c29b-1a9b61ae9739"
      },
      "source": [
        "print(num_of_instances)"
      ],
      "execution_count": null,
      "outputs": [
        {
          "output_type": "stream",
          "text": [
            "35888\n"
          ],
          "name": "stdout"
        }
      ]
    },
    {
      "cell_type": "code",
      "metadata": {
        "id": "hoTgZ66UtTJk"
      },
      "source": [
        "# Разделение исходного набора данных на 3 выборки\n",
        "x_train, y_train, x_test, y_test, x_val, y_val = [], [], [], [], [], []\n",
        "for i in range(1,num_of_instances):\n",
        "  emotion, img, usage = lines[i].split(\",\")\n",
        "  val = img.split(\" \")\n",
        "  pixels = np.array(val, 'float32')\n",
        "  emotion = to_categorical(emotion, num_classes)\n",
        "        \n",
        "  if 'Training' in usage:\n",
        "      y_train.append(emotion)\n",
        "      x_train.append(pixels)\n",
        "  elif 'PublicTest' in usage:\n",
        "      y_test.append(emotion)\n",
        "      x_test.append(pixels)\n",
        "  elif 'PrivateTest' in usage:\n",
        "      y_val.append(emotion)\n",
        "      x_val.append(pixels)\n"
      ],
      "execution_count": null,
      "outputs": []
    },
    {
      "cell_type": "code",
      "metadata": {
        "colab": {
          "base_uri": "https://localhost:8080/"
        },
        "id": "_-gxgpRPAk73",
        "outputId": "0532fc89-2fb2-4623-aaf0-5aec71befb06"
      },
      "source": [
        "#Заполнение массивов\n",
        "#Нормализация данных о интенсивности пикселов изображения\n",
        "x_train = np.array(x_train, 'float32')\n",
        "y_train = np.array(y_train, 'float32')\n",
        "x_test = np.array(x_test, 'float32')\n",
        "y_test = np.array(y_test, 'float32')\n",
        "x_val = np.array(x_val, 'float32')\n",
        "y_val = np.array(y_val, 'float32')\n",
        "\n",
        "x_train /=255  #normalize inputs between [0,1]\n",
        "x_test /=255\n",
        "x_val /=255\n",
        "\n",
        "x_train = x_train.reshape(x_train.shape[0], 48, 48, 1)\n",
        "x_train = x_train.astype('float32')\n",
        "x_test = x_test.reshape(x_test.shape[0], 48, 48, 1)\n",
        "x_test = x_test.astype('float32')\n",
        "x_val = x_val.reshape(x_test.shape[0], 48, 48, 1)\n",
        "x_val = x_val.astype('float32')\n",
        "\n",
        "print(x_train.shape[0], 'train samples')\n",
        "print(x_test.shape[0], 'test samples')\n",
        "print(x_val.shape[0], 'validation samples')"
      ],
      "execution_count": null,
      "outputs": [
        {
          "output_type": "stream",
          "text": [
            "28709 train samples\n",
            "3589 test samples\n",
            "3589 validation samples\n"
          ],
          "name": "stdout"
        }
      ]
    },
    {
      "cell_type": "code",
      "metadata": {
        "colab": {
          "base_uri": "https://localhost:8080/"
        },
        "id": "NNPG54gi2pKq",
        "outputId": "ace259c9-2391-4883-eb11-774f75f1c4cc"
      },
      "source": [
        "y_test.shape"
      ],
      "execution_count": null,
      "outputs": [
        {
          "output_type": "execute_result",
          "data": {
            "text/plain": [
              "(3589, 7)"
            ]
          },
          "metadata": {
            "tags": []
          },
          "execution_count": 19
        }
      ]
    },
    {
      "cell_type": "code",
      "metadata": {
        "id": "Sz6ob73-BKCK"
      },
      "source": [
        "def VGG_Model(input_shape=(48,48,1)):\n",
        "    \n",
        "    \n",
        "    # first input model\n",
        "    visible = Input(shape=input_shape, name='input')\n",
        "    num_classes = 7\n",
        "    #the 1-st block\n",
        "    conv1_1 = Conv2D(64, kernel_size=3, activation='relu', padding='same', name = 'conv1_1')(visible)\n",
        "    conv1_1 = BatchNormalization()(conv1_1)\n",
        "    conv1_2 = Conv2D(64, kernel_size=3, activation='relu', padding='same', name = 'conv1_2')(conv1_1)\n",
        "    conv1_2 = BatchNormalization()(conv1_2)\n",
        "\n",
        "    pool1_1 = MaxPool2D(pool_size=(2,2), name = 'pool1_1')(conv1_2)\n",
        "    \n",
        "    #the 2-nd block\n",
        "    conv2_1 = Conv2D(128, kernel_size=3, activation='relu', padding='same', name = 'conv2_1')(pool1_1)\n",
        "    conv2_1 = BatchNormalization()(conv2_1)\n",
        "    conv2_2 = Conv2D(128, kernel_size=3, activation='relu', padding='same', name = 'conv2_2')(conv2_1)\n",
        "    conv2_2 = BatchNormalization()(conv2_2)\n",
        "\n",
        "    pool2_1 = MaxPool2D(pool_size=(2,2), name = 'pool2_1')(conv2_2)\n",
        "    \n",
        "    #the 3-rd block\n",
        "    conv3_1 = Conv2D(256, kernel_size=3, activation='relu', padding='same', name = 'conv3_1')(pool2_1)\n",
        "    conv3_1 = BatchNormalization()(conv3_1)\n",
        "    conv3_2 = Conv2D(256, kernel_size=3, activation='relu', padding='same', name = 'conv3_2')(conv3_1)\n",
        "    conv3_2 = BatchNormalization()(conv3_2)\n",
        "    conv3_3 = Conv2D(256, kernel_size=3, activation='relu', padding='same', name = 'conv3_3')(conv3_2)\n",
        "    conv3_3 = BatchNormalization()(conv3_3)\n",
        "    conv3_4 = Conv2D(256, kernel_size=3, activation='relu', padding='same', name = 'conv3_4')(conv3_3)\n",
        "    conv3_4 = BatchNormalization()(conv3_4)\n",
        "\n",
        "    pool3_1 = MaxPool2D(pool_size=(2,2), name = 'pool3_1')(conv3_4)\n",
        "    \n",
        "    #the 4-th block\n",
        "    conv4_1 = Conv2D(512, kernel_size=3, activation='relu', padding='same', name = 'conv4_1')(pool3_1)\n",
        "    conv4_1 = BatchNormalization()(conv4_1)\n",
        "    conv4_2 = Conv2D(512, kernel_size=3, activation='relu', padding='same', name = 'conv4_2')(conv4_1)\n",
        "    conv4_2 = BatchNormalization()(conv4_2)\n",
        "    conv4_3 = Conv2D(512, kernel_size=3, activation='relu', padding='same', name = 'conv4_3')(conv4_2)\n",
        "    conv4_3 = BatchNormalization()(conv4_3)\n",
        "    conv4_4 = Conv2D(512, kernel_size=3, activation='relu', padding='same', name = 'conv4_4')(conv4_3)\n",
        "    conv4_4 = BatchNormalization()(conv4_4)\n",
        "\n",
        "    pool4_1 = MaxPool2D(pool_size=(2,2), name = 'pool4_1')(conv4_4)\n",
        "    \n",
        "    #the 5-th block\n",
        "    conv5_1 = Conv2D(512, kernel_size=3, activation='relu', padding='same', name = 'conv5_1')(pool4_1)\n",
        "    conv5_1 = BatchNormalization()(conv5_1)\n",
        "    conv5_2 = Conv2D(512, kernel_size=3, activation='relu', padding='same', name = 'conv5_2')(conv5_1)\n",
        "    conv5_2 = BatchNormalization()(conv5_2)\n",
        "    conv5_3 = Conv2D(512, kernel_size=3, activation='relu', padding='same', name = 'conv5_3')(conv5_2)\n",
        "    conv5_3 = BatchNormalization()(conv5_3)\n",
        "    conv5_4 = Conv2D(512, kernel_size=3, activation='relu', padding='same', name = 'conv5_4')(conv5_3)\n",
        "    conv5_4 = BatchNormalization()(conv5_3)\n",
        "\n",
        "    pool5_1 = MaxPool2D(pool_size=(2,2), name = 'pool5_1')(conv5_4)\n",
        "    \n",
        "    #Flatten \n",
        "    flatten = Flatten(name = 'flatten')(pool5_1)\n",
        "    # Fullconnection layers\n",
        "    fc1 = Dense(4096,activation='relu', name='fc1')(flatten)\n",
        "    fc2 = Dense(4096,activation='relu', name='fc2')(fc1)\n",
        "    fc3 = Dense(1000,activation='relu', name='fc3')(fc2)\n",
        "    # Output layer\n",
        "    ouput = Dense(num_classes, activation='softmax', name = 'output')(fc3)\n",
        "\n",
        "    # create model \n",
        "    model = Model(inputs =visible, outputs = ouput)\n",
        "    # summary layers\n",
        "    print(model.summary())\n",
        "    \n",
        "    return model"
      ],
      "execution_count": null,
      "outputs": []
    },
    {
      "cell_type": "code",
      "metadata": {
        "colab": {
          "base_uri": "https://localhost:8080/"
        },
        "id": "KOfaCvYCBR8h",
        "outputId": "7d11d0f2-c0cf-4600-fb26-4d213fb46dbd"
      },
      "source": [
        "model_vgg = VGG_Model()\n",
        "model_vgg.compile(loss='categorical_crossentropy', optimizer=optimizer, metrics=['accuracy'])"
      ],
      "execution_count": null,
      "outputs": [
        {
          "output_type": "stream",
          "text": [
            "Model: \"model\"\n",
            "_________________________________________________________________\n",
            "Layer (type)                 Output Shape              Param #   \n",
            "=================================================================\n",
            "input (InputLayer)           [(None, 48, 48, 1)]       0         \n",
            "_________________________________________________________________\n",
            "conv1_1 (Conv2D)             (None, 48, 48, 64)        640       \n",
            "_________________________________________________________________\n",
            "batch_normalization (BatchNo (None, 48, 48, 64)        256       \n",
            "_________________________________________________________________\n",
            "conv1_2 (Conv2D)             (None, 48, 48, 64)        36928     \n",
            "_________________________________________________________________\n",
            "batch_normalization_1 (Batch (None, 48, 48, 64)        256       \n",
            "_________________________________________________________________\n",
            "pool1_1 (MaxPooling2D)       (None, 24, 24, 64)        0         \n",
            "_________________________________________________________________\n",
            "conv2_1 (Conv2D)             (None, 24, 24, 128)       73856     \n",
            "_________________________________________________________________\n",
            "batch_normalization_2 (Batch (None, 24, 24, 128)       512       \n",
            "_________________________________________________________________\n",
            "conv2_2 (Conv2D)             (None, 24, 24, 128)       147584    \n",
            "_________________________________________________________________\n",
            "batch_normalization_3 (Batch (None, 24, 24, 128)       512       \n",
            "_________________________________________________________________\n",
            "pool2_1 (MaxPooling2D)       (None, 12, 12, 128)       0         \n",
            "_________________________________________________________________\n",
            "conv3_1 (Conv2D)             (None, 12, 12, 256)       295168    \n",
            "_________________________________________________________________\n",
            "batch_normalization_4 (Batch (None, 12, 12, 256)       1024      \n",
            "_________________________________________________________________\n",
            "conv3_2 (Conv2D)             (None, 12, 12, 256)       590080    \n",
            "_________________________________________________________________\n",
            "batch_normalization_5 (Batch (None, 12, 12, 256)       1024      \n",
            "_________________________________________________________________\n",
            "conv3_3 (Conv2D)             (None, 12, 12, 256)       590080    \n",
            "_________________________________________________________________\n",
            "batch_normalization_6 (Batch (None, 12, 12, 256)       1024      \n",
            "_________________________________________________________________\n",
            "conv3_4 (Conv2D)             (None, 12, 12, 256)       590080    \n",
            "_________________________________________________________________\n",
            "batch_normalization_7 (Batch (None, 12, 12, 256)       1024      \n",
            "_________________________________________________________________\n",
            "pool3_1 (MaxPooling2D)       (None, 6, 6, 256)         0         \n",
            "_________________________________________________________________\n",
            "conv4_1 (Conv2D)             (None, 6, 6, 512)         1180160   \n",
            "_________________________________________________________________\n",
            "batch_normalization_8 (Batch (None, 6, 6, 512)         2048      \n",
            "_________________________________________________________________\n",
            "conv4_2 (Conv2D)             (None, 6, 6, 512)         2359808   \n",
            "_________________________________________________________________\n",
            "batch_normalization_9 (Batch (None, 6, 6, 512)         2048      \n",
            "_________________________________________________________________\n",
            "conv4_3 (Conv2D)             (None, 6, 6, 512)         2359808   \n",
            "_________________________________________________________________\n",
            "batch_normalization_10 (Batc (None, 6, 6, 512)         2048      \n",
            "_________________________________________________________________\n",
            "conv4_4 (Conv2D)             (None, 6, 6, 512)         2359808   \n",
            "_________________________________________________________________\n",
            "batch_normalization_11 (Batc (None, 6, 6, 512)         2048      \n",
            "_________________________________________________________________\n",
            "pool4_1 (MaxPooling2D)       (None, 3, 3, 512)         0         \n",
            "_________________________________________________________________\n",
            "conv5_1 (Conv2D)             (None, 3, 3, 512)         2359808   \n",
            "_________________________________________________________________\n",
            "batch_normalization_12 (Batc (None, 3, 3, 512)         2048      \n",
            "_________________________________________________________________\n",
            "conv5_2 (Conv2D)             (None, 3, 3, 512)         2359808   \n",
            "_________________________________________________________________\n",
            "batch_normalization_13 (Batc (None, 3, 3, 512)         2048      \n",
            "_________________________________________________________________\n",
            "conv5_3 (Conv2D)             (None, 3, 3, 512)         2359808   \n",
            "_________________________________________________________________\n",
            "batch_normalization_14 (Batc (None, 3, 3, 512)         2048      \n",
            "_________________________________________________________________\n",
            "batch_normalization_15 (Batc (None, 3, 3, 512)         2048      \n",
            "_________________________________________________________________\n",
            "pool5_1 (MaxPooling2D)       (None, 1, 1, 512)         0         \n",
            "_________________________________________________________________\n",
            "flatten (Flatten)            (None, 512)               0         \n",
            "_________________________________________________________________\n",
            "fc1 (Dense)                  (None, 4096)              2101248   \n",
            "_________________________________________________________________\n",
            "fc2 (Dense)                  (None, 4096)              16781312  \n",
            "_________________________________________________________________\n",
            "fc3 (Dense)                  (None, 1000)              4097000   \n",
            "_________________________________________________________________\n",
            "output (Dense)               (None, 7)                 7007      \n",
            "=================================================================\n",
            "Total params: 40,672,007\n",
            "Trainable params: 40,660,999\n",
            "Non-trainable params: 11,008\n",
            "_________________________________________________________________\n",
            "None\n"
          ],
          "name": "stdout"
        }
      ]
    },
    {
      "cell_type": "code",
      "metadata": {
        "id": "FTq5ocWQBU6j",
        "colab": {
          "base_uri": "https://localhost:8080/"
        },
        "outputId": "6d9148ca-41a2-4229-eb1a-f0c30cd9038d"
      },
      "source": [
        "if fit_vgg == True:\n",
        "    hist_1 = model_vgg.fit(x_train, y_train, epochs = epochs_vgg, batch_size=bs, validation_data=(x_val, y_val), verbose = 1, shuffle=False)\n",
        "else:\n",
        "    hist_1 = model_vgg.load_weights(model_vgg_path + version + str(epochs_vgg) + \"_weights.h5\")"
      ],
      "execution_count": null,
      "outputs": [
        {
          "output_type": "stream",
          "text": [
            "Epoch 1/56\n",
            "144/144 [==============================] - 86s 245ms/step - loss: 3.0213 - accuracy: 0.2449 - val_loss: 1.8451 - val_accuracy: 0.2524\n",
            "Epoch 2/56\n",
            "144/144 [==============================] - 31s 214ms/step - loss: 1.4966 - accuracy: 0.4090 - val_loss: 2.0997 - val_accuracy: 0.2079\n",
            "Epoch 3/56\n",
            "144/144 [==============================] - 31s 219ms/step - loss: 1.3259 - accuracy: 0.4850 - val_loss: 1.9373 - val_accuracy: 0.2836\n",
            "Epoch 4/56\n",
            "144/144 [==============================] - 31s 216ms/step - loss: 1.2162 - accuracy: 0.5322 - val_loss: 1.4836 - val_accuracy: 0.4745\n",
            "Epoch 5/56\n",
            "144/144 [==============================] - 31s 217ms/step - loss: 1.1401 - accuracy: 0.5656 - val_loss: 1.2506 - val_accuracy: 0.5355\n",
            "Epoch 6/56\n",
            "144/144 [==============================] - 31s 217ms/step - loss: 1.0585 - accuracy: 0.5997 - val_loss: 1.4443 - val_accuracy: 0.4960\n",
            "Epoch 7/56\n",
            "144/144 [==============================] - 31s 217ms/step - loss: 0.9863 - accuracy: 0.6317 - val_loss: 1.4203 - val_accuracy: 0.4996\n",
            "Epoch 8/56\n",
            "144/144 [==============================] - 31s 216ms/step - loss: 0.9239 - accuracy: 0.6602 - val_loss: 1.2389 - val_accuracy: 0.5787\n",
            "Epoch 9/56\n",
            "144/144 [==============================] - 31s 216ms/step - loss: 0.8594 - accuracy: 0.6816 - val_loss: 1.2358 - val_accuracy: 0.5938\n",
            "Epoch 10/56\n",
            "144/144 [==============================] - 31s 216ms/step - loss: 0.8078 - accuracy: 0.7025 - val_loss: 1.4001 - val_accuracy: 0.5589\n",
            "Epoch 11/56\n",
            "144/144 [==============================] - 31s 216ms/step - loss: 0.7218 - accuracy: 0.7373 - val_loss: 1.5066 - val_accuracy: 0.5550\n",
            "Epoch 12/56\n",
            "144/144 [==============================] - 31s 216ms/step - loss: 0.6641 - accuracy: 0.7634 - val_loss: 1.5134 - val_accuracy: 0.5617\n",
            "Epoch 13/56\n",
            "144/144 [==============================] - 31s 216ms/step - loss: 0.5723 - accuracy: 0.7993 - val_loss: 1.4833 - val_accuracy: 0.5787\n",
            "Epoch 14/56\n",
            "144/144 [==============================] - 31s 216ms/step - loss: 0.5127 - accuracy: 0.8236 - val_loss: 1.5447 - val_accuracy: 0.5848\n",
            "Epoch 15/56\n",
            "144/144 [==============================] - 31s 216ms/step - loss: 0.4593 - accuracy: 0.8400 - val_loss: 1.6794 - val_accuracy: 0.5567\n",
            "Epoch 16/56\n",
            "144/144 [==============================] - 31s 216ms/step - loss: 0.4323 - accuracy: 0.8523 - val_loss: 1.5309 - val_accuracy: 0.5952\n",
            "Epoch 17/56\n",
            "144/144 [==============================] - 31s 216ms/step - loss: 0.3570 - accuracy: 0.8783 - val_loss: 1.7465 - val_accuracy: 0.5985\n",
            "Epoch 18/56\n",
            "144/144 [==============================] - 31s 216ms/step - loss: 0.3161 - accuracy: 0.8934 - val_loss: 2.0529 - val_accuracy: 0.5782\n",
            "Epoch 19/56\n",
            "144/144 [==============================] - 31s 216ms/step - loss: 0.2829 - accuracy: 0.9044 - val_loss: 1.9000 - val_accuracy: 0.5832\n",
            "Epoch 20/56\n",
            "144/144 [==============================] - 31s 216ms/step - loss: 0.2246 - accuracy: 0.9239 - val_loss: 2.2360 - val_accuracy: 0.6032\n",
            "Epoch 21/56\n",
            "144/144 [==============================] - 31s 216ms/step - loss: 0.1880 - accuracy: 0.9377 - val_loss: 1.9871 - val_accuracy: 0.6052\n",
            "Epoch 22/56\n",
            "144/144 [==============================] - 31s 216ms/step - loss: 0.1606 - accuracy: 0.9488 - val_loss: 1.8689 - val_accuracy: 0.5977\n",
            "Epoch 23/56\n",
            "144/144 [==============================] - 31s 215ms/step - loss: 0.1509 - accuracy: 0.9501 - val_loss: 1.8443 - val_accuracy: 0.6113\n",
            "Epoch 24/56\n",
            "144/144 [==============================] - 31s 216ms/step - loss: 0.1321 - accuracy: 0.9563 - val_loss: 2.1623 - val_accuracy: 0.5960\n",
            "Epoch 25/56\n",
            "144/144 [==============================] - 31s 216ms/step - loss: 0.1124 - accuracy: 0.9625 - val_loss: 2.1637 - val_accuracy: 0.6080\n",
            "Epoch 26/56\n",
            "144/144 [==============================] - 31s 215ms/step - loss: 0.1110 - accuracy: 0.9637 - val_loss: 1.8607 - val_accuracy: 0.6082\n",
            "Epoch 27/56\n",
            "144/144 [==============================] - 31s 215ms/step - loss: 0.1079 - accuracy: 0.9665 - val_loss: 2.0670 - val_accuracy: 0.6080\n",
            "Epoch 28/56\n",
            "144/144 [==============================] - 31s 216ms/step - loss: 0.0812 - accuracy: 0.9731 - val_loss: 2.1690 - val_accuracy: 0.6155\n",
            "Epoch 29/56\n",
            "144/144 [==============================] - 31s 215ms/step - loss: 0.0832 - accuracy: 0.9718 - val_loss: 2.3027 - val_accuracy: 0.6080\n",
            "Epoch 30/56\n",
            "144/144 [==============================] - 31s 215ms/step - loss: 0.0786 - accuracy: 0.9748 - val_loss: 2.2038 - val_accuracy: 0.6127\n",
            "Epoch 31/56\n",
            "144/144 [==============================] - 31s 216ms/step - loss: 0.0821 - accuracy: 0.9730 - val_loss: 2.1598 - val_accuracy: 0.6160\n",
            "Epoch 32/56\n",
            "144/144 [==============================] - 31s 216ms/step - loss: 0.0783 - accuracy: 0.9747 - val_loss: 2.0294 - val_accuracy: 0.6074\n",
            "Epoch 33/56\n",
            "144/144 [==============================] - 31s 216ms/step - loss: 0.0753 - accuracy: 0.9765 - val_loss: 2.1261 - val_accuracy: 0.6211\n",
            "Epoch 34/56\n",
            "144/144 [==============================] - 31s 216ms/step - loss: 0.0737 - accuracy: 0.9764 - val_loss: 2.3716 - val_accuracy: 0.6055\n",
            "Epoch 35/56\n",
            "144/144 [==============================] - 31s 216ms/step - loss: 0.0733 - accuracy: 0.9778 - val_loss: 2.2103 - val_accuracy: 0.6032\n",
            "Epoch 36/56\n",
            "144/144 [==============================] - 31s 216ms/step - loss: 0.0616 - accuracy: 0.9804 - val_loss: 2.1534 - val_accuracy: 0.6330\n",
            "Epoch 37/56\n",
            "144/144 [==============================] - 31s 215ms/step - loss: 0.0510 - accuracy: 0.9835 - val_loss: 2.0021 - val_accuracy: 0.6258\n",
            "Epoch 38/56\n",
            "144/144 [==============================] - 31s 215ms/step - loss: 0.0562 - accuracy: 0.9812 - val_loss: 2.1723 - val_accuracy: 0.6060\n",
            "Epoch 39/56\n",
            "144/144 [==============================] - 31s 215ms/step - loss: 0.0583 - accuracy: 0.9815 - val_loss: 1.9987 - val_accuracy: 0.6113\n",
            "Epoch 40/56\n",
            "144/144 [==============================] - 31s 215ms/step - loss: 0.0613 - accuracy: 0.9810 - val_loss: 2.2358 - val_accuracy: 0.6180\n",
            "Epoch 41/56\n",
            "144/144 [==============================] - 31s 215ms/step - loss: 0.0624 - accuracy: 0.9814 - val_loss: 2.2099 - val_accuracy: 0.6172\n",
            "Epoch 42/56\n",
            "144/144 [==============================] - 31s 215ms/step - loss: 0.0520 - accuracy: 0.9826 - val_loss: 2.2511 - val_accuracy: 0.6124\n",
            "Epoch 43/56\n",
            "144/144 [==============================] - 31s 216ms/step - loss: 0.0555 - accuracy: 0.9824 - val_loss: 2.4202 - val_accuracy: 0.5949\n",
            "Epoch 44/56\n",
            "144/144 [==============================] - 31s 216ms/step - loss: 0.0559 - accuracy: 0.9819 - val_loss: 2.4570 - val_accuracy: 0.6219\n",
            "Epoch 45/56\n",
            "144/144 [==============================] - 31s 216ms/step - loss: 0.0489 - accuracy: 0.9848 - val_loss: 2.1743 - val_accuracy: 0.6403\n",
            "Epoch 46/56\n",
            "144/144 [==============================] - 31s 216ms/step - loss: 0.0451 - accuracy: 0.9857 - val_loss: 2.0974 - val_accuracy: 0.6297\n",
            "Epoch 47/56\n",
            "144/144 [==============================] - 31s 215ms/step - loss: 0.0473 - accuracy: 0.9857 - val_loss: 2.1176 - val_accuracy: 0.6199\n",
            "Epoch 48/56\n",
            "144/144 [==============================] - 31s 216ms/step - loss: 0.0458 - accuracy: 0.9855 - val_loss: 2.1738 - val_accuracy: 0.6211\n",
            "Epoch 49/56\n",
            "144/144 [==============================] - 31s 216ms/step - loss: 0.0511 - accuracy: 0.9831 - val_loss: 2.3245 - val_accuracy: 0.6266\n",
            "Epoch 50/56\n",
            "144/144 [==============================] - 31s 216ms/step - loss: 0.0462 - accuracy: 0.9853 - val_loss: 2.3345 - val_accuracy: 0.6264\n",
            "Epoch 51/56\n",
            "144/144 [==============================] - 31s 215ms/step - loss: 0.0484 - accuracy: 0.9856 - val_loss: 2.6401 - val_accuracy: 0.6172\n",
            "Epoch 52/56\n",
            "144/144 [==============================] - 31s 215ms/step - loss: 0.0542 - accuracy: 0.9823 - val_loss: 2.4039 - val_accuracy: 0.6291\n",
            "Epoch 53/56\n",
            "144/144 [==============================] - 31s 215ms/step - loss: 0.0484 - accuracy: 0.9864 - val_loss: 2.5440 - val_accuracy: 0.6258\n",
            "Epoch 54/56\n",
            "144/144 [==============================] - 31s 215ms/step - loss: 0.0395 - accuracy: 0.9868 - val_loss: 2.5258 - val_accuracy: 0.6247\n",
            "Epoch 55/56\n",
            "144/144 [==============================] - 31s 215ms/step - loss: 0.0551 - accuracy: 0.9844 - val_loss: 2.2876 - val_accuracy: 0.6289\n",
            "Epoch 56/56\n",
            "144/144 [==============================] - 31s 215ms/step - loss: 0.0463 - accuracy: 0.9848 - val_loss: 2.2756 - val_accuracy: 0.6266\n"
          ],
          "name": "stdout"
        }
      ]
    },
    {
      "cell_type": "code",
      "metadata": {
        "id": "qDe6StbqBdpW"
      },
      "source": [
        "# Saving  the model\n",
        "model_vgg_json = model_vgg.to_json()\n",
        "with open(model_vgg_path +  version + str(epochs_vgg) +\".json\", \"w\") as json_file:\n",
        "    json.dump(model_vgg_json, json_file)\n",
        "\n",
        "model_vgg.save_weights(model_vgg_path +  version + str(epochs_vgg) + \"_weights.h5\")"
      ],
      "execution_count": null,
      "outputs": []
    },
    {
      "cell_type": "code",
      "metadata": {
        "id": "SeqaQJ-NBkJi"
      },
      "source": [
        "# visualizing losses and accuracy\n",
        "#loss_and_acc()\n",
        "def visual_acc(hist):\n",
        "  train_acc  = hist.history['accuracy']\n",
        "  val_acc    = hist.history['val_accuracy']\n",
        "  #plt.figure(figsize=(15,7))\n",
        "  plt.plot(hist.history['accuracy'], label='Доля верных ответов на обучющем наборе')\n",
        "  plt.plot(hist.history['val_accuracy'], label='Доля верных ответов на проверочном наборе')\n",
        "  plt.legend()\n",
        "  plt.xlabel('Epochs')\n",
        "  plt.ylabel('Accuracy')\n",
        "  plt.title('Train-Val accuracy')"
      ],
      "execution_count": null,
      "outputs": []
    },
    {
      "cell_type": "code",
      "metadata": {
        "id": "L6FfVstsBoeL"
      },
      "source": [
        "def visual_loss(hist):\n",
        "  train_loss = hist.history['loss']\n",
        "  val_loss   = hist.history['val_loss']\n",
        "  #plt.figure(figsize=(15,7))\n",
        "  plt.plot(hist.history['loss'], label='Доля промахов на обучющем наборе')\n",
        "  plt.plot(hist.history['val_loss'], label='Доля промахов на проверочном наборе')\n",
        "  plt.xlabel('Epochs')\n",
        "  plt.ylabel('Loss')\n",
        "  plt.legend()\n",
        "  plt.title('Train-Val Loss')"
      ],
      "execution_count": null,
      "outputs": []
    },
    {
      "cell_type": "code",
      "metadata": {
        "id": "BwZHR8LgEEWR",
        "colab": {
          "base_uri": "https://localhost:8080/",
          "height": 295
        },
        "outputId": "73605356-0190-4cd9-9462-0dde79d40cc6"
      },
      "source": [
        "if fit_vgg == True:\n",
        "  visual_acc(hist_1)"
      ],
      "execution_count": null,
      "outputs": [
        {
          "output_type": "display_data",
          "data": {
            "image/png": "[encoded data removed]",
            "text/plain": [
              "<Figure size 432x288 with 1 Axes>"
            ]
          },
          "metadata": {
            "tags": [],
            "needs_background": "light"
          }
        }
      ]
    },
    {
      "cell_type": "code",
      "metadata": {
        "id": "ZaWG6bpBEHq7",
        "colab": {
          "base_uri": "https://localhost:8080/",
          "height": 295
        },
        "outputId": "ba8e521f-7534-44ab-a87a-8bf0a112a5de"
      },
      "source": [
        "if fit_vgg == True:\n",
        "  visual_loss(hist_1)"
      ],
      "execution_count": null,
      "outputs": [
        {
          "output_type": "display_data",
          "data": {
            "image/png": "[encoded data removed]",
            "text/plain": [
              "<Figure size 432x288 with 1 Axes>"
            ]
          },
          "metadata": {
            "tags": [],
            "needs_background": "light"
          }
        }
      ]
    },
    {
      "cell_type": "code",
      "metadata": {
        "id": "wA659jiNBqxP",
        "colab": {
          "base_uri": "https://localhost:8080/"
        },
        "outputId": "3faeb01e-63ea-44bf-c10c-3d238ea9327e"
      },
      "source": [
        "if fit_vgg == True:\n",
        "  y_pred_keras = model_vgg.predict(x_test)\n",
        "\n",
        "  model_vgg.compile(loss='categorical_crossentropy', \n",
        "              optimizer=keras.optimizers.Adam(),\n",
        "              metrics=['accuracy']             )\n",
        "\n",
        "\n",
        "  score = model_vgg.evaluate(x_train, y_train)\n",
        "  print('Train loss: ', score[0])\n",
        "  print(\"Train accuracy: %.2f%%\" % (100*score[1]))\n",
        "\n",
        "  score = model_vgg.evaluate(x_val, y_val)\n",
        "  print('Validation loss: ', score[0])\n",
        "  print(\"Validation accuracy: %.2f%%\" % (100*score[1]))\n",
        "  print(model_vgg.metrics_names)\n",
        "\n",
        "  score = model_vgg.evaluate(x_test, y_test)\n",
        "  print('Test loss: ', score[0])\n",
        "  print(\"Test accuracy: %.2f%%\" % (100*score[1]))\n",
        "  print(model_vgg.metrics_names)"
      ],
      "execution_count": null,
      "outputs": [
        {
          "output_type": "stream",
          "text": [
            "898/898 [==============================] - 16s 16ms/step - loss: 0.1205 - accuracy: 0.9662\n",
            "Train loss:  0.10276616364717484\n",
            "Train accuracy: 97.11%\n",
            "113/113 [==============================] - 2s 16ms/step - loss: 2.2756 - accuracy: 0.6266\n",
            "Validation loss:  2.2756080627441406\n",
            "Validation accuracy: 62.66%\n",
            "['loss', 'accuracy']\n",
            "113/113 [==============================] - 2s 16ms/step - loss: 2.3113 - accuracy: 0.6239\n",
            "Test loss:  2.311284065246582\n",
            "Test accuracy: 62.39%\n",
            "['loss', 'accuracy']\n"
          ],
          "name": "stdout"
        }
      ]
    },
    {
      "cell_type": "code",
      "metadata": {
        "id": "yYxmlDWMAz6O"
      },
      "source": [
        "# Сохранение весов в процессе обучения\n",
        "from keras.callbacks import ModelCheckpoint\n",
        "weights_file_vgg_plus = model_vgg_plus_path + version + str(epochs_vgg)\n",
        "checkpoint_vgg = ModelCheckpoint(weights_file_vgg_plus, monitor='val_accuracy', mode='max', save_best_only=True, verbose=1)"
      ],
      "execution_count": null,
      "outputs": []
    },
    {
      "cell_type": "code",
      "metadata": {
        "id": "MPVa3xnKA1e0"
      },
      "source": [
        "# Калбэк ранней остановки обучения\n",
        "early_stopping_callback_vgg = EarlyStopping(monitor='val_accuracy', patience = patience)"
      ],
      "execution_count": null,
      "outputs": []
    },
    {
      "cell_type": "code",
      "metadata": {
        "id": "OHGHMJAFCqtX"
      },
      "source": [
        "def VGG_Model_plus(input_shape=(48,48,1)):\n",
        "    \n",
        "    \n",
        "    # first input model\n",
        "    visible = Input(shape=input_shape, name='input')\n",
        "    num_classes = 7\n",
        "\n",
        "    #the 1-st block\n",
        "    conv1_1 = Conv2D(64, kernel_size=3, activation='relu', padding='same', name = 'conv1_1')(visible)\n",
        "    conv1_1 = BatchNormalization()(conv1_1)\n",
        "    conv1_2 = Conv2D(64, kernel_size=3, activation='relu', padding='same', name = 'conv1_2')(conv1_1)\n",
        "    conv1_2 = BatchNormalization()(conv1_2)\n",
        "\n",
        "    pool1_1 = MaxPool2D(pool_size=(2,2), name = 'pool1_1')(conv1_2)\n",
        "    drop1_1 = Dropout(0.3, name = 'drop1_1')(pool1_1)\n",
        "    \n",
        "    #the 2-nd block\n",
        "    conv2_1 = Conv2D(128, kernel_size=3, activation='relu', padding='same', name = 'conv2_1')(drop1_1)\n",
        "    conv2_1 = BatchNormalization()(conv2_1)\n",
        "    conv2_2 = Conv2D(128, kernel_size=3, activation='relu', padding='same', name = 'conv2_2')(conv2_1)\n",
        "    conv2_2 = BatchNormalization()(conv2_2)\n",
        "\n",
        "    pool2_1 = MaxPool2D(pool_size=(2,2), name = 'pool2_1')(conv2_2)\n",
        "    drop2_1 = Dropout(0.3, name = 'drop2_1')(pool2_1)\n",
        "    \n",
        "    #the 3-rd block\n",
        "    conv3_1 = Conv2D(256, kernel_size=3, activation='relu', padding='same', name = 'conv3_1')(drop2_1)\n",
        "    conv3_1 = BatchNormalization()(conv3_1)\n",
        "    conv3_2 = Conv2D(256, kernel_size=3, activation='relu', padding='same', name = 'conv3_2')(conv3_1)\n",
        "    conv3_2 = BatchNormalization()(conv3_2)\n",
        "    conv3_3 = Conv2D(256, kernel_size=3, activation='relu', padding='same', name = 'conv3_3')(conv3_2)\n",
        "    conv3_3 = BatchNormalization()(conv3_3)\n",
        "    conv3_4 = Conv2D(256, kernel_size=3, activation='relu', padding='same', name = 'conv3_4')(conv3_3)\n",
        "    conv3_4 = BatchNormalization()(conv3_4)\n",
        "\n",
        "    pool3_1 = MaxPool2D(pool_size=(2,2), name = 'pool3_1')(conv3_4)\n",
        "    drop3_1 = Dropout(0.3, name = 'drop3_1')(pool3_1)\n",
        "    \n",
        "    #the 4-th block\n",
        "    conv4_1 = Conv2D(512, kernel_size=3, activation='relu', padding='same', name = 'conv4_1')(drop3_1)\n",
        "    conv4_1 = BatchNormalization()(conv4_1)\n",
        "    conv4_2 = Conv2D(512, kernel_size=3, activation='relu', padding='same', name = 'conv4_2')(conv4_1)\n",
        "    conv4_2 = BatchNormalization()(conv4_2)\n",
        "    conv4_3 = Conv2D(512, kernel_size=3, activation='relu', padding='same', name = 'conv4_3')(conv4_2)\n",
        "    conv4_3 = BatchNormalization()(conv4_3)\n",
        "    conv4_4 = Conv2D(512, kernel_size=3, activation='relu', padding='same', name = 'conv4_4')(conv4_3)\n",
        "    conv4_4 = BatchNormalization()(conv4_4)\n",
        "\n",
        "    pool4_1 = MaxPool2D(pool_size=(2,2), name = 'pool4_1')(conv4_4)\n",
        "    drop4_1 = Dropout(0.3, name = 'drop4_1')(pool4_1)\n",
        "    \n",
        "    #the 5-th block\n",
        "    conv5_1 = Conv2D(512, kernel_size=3, activation='relu', padding='same', name = 'conv5_1')(drop4_1)\n",
        "    conv5_1 = BatchNormalization()(conv5_1)\n",
        "    conv5_2 = Conv2D(512, kernel_size=3, activation='relu', padding='same', name = 'conv5_2')(conv5_1)\n",
        "    conv5_2 = BatchNormalization()(conv5_2)\n",
        "    conv5_3 = Conv2D(512, kernel_size=3, activation='relu', padding='same', name = 'conv5_3')(conv5_2)\n",
        "    conv5_3 = BatchNormalization()(conv5_3)\n",
        "    conv5_4 = Conv2D(512, kernel_size=3, activation='relu', padding='same', name = 'conv5_4')(conv5_3)\n",
        "    conv5_4 = BatchNormalization()(conv5_3)\n",
        "\n",
        "    pool5_1 = MaxPool2D(pool_size=(2,2), name = 'pool5_1')(conv5_4)\n",
        "    drop5_1 = Dropout(0.3, name = 'drop5_1')(pool5_1)\n",
        "    \n",
        "    #Flatten \n",
        "    flatten = Flatten(name = 'flatten')(drop5_1)\n",
        "    # Fullconnection layers\n",
        "    fc1 = Dense(4096,activation='relu', name='fc1')(flatten)\n",
        "    drop6_1 = Dropout(0.3, name = 'drop6_1')(fc1)\n",
        "    fc2 = Dense(4096,activation='relu', name='fc2')(drop6_1)\n",
        "    drop6_2 = Dropout(0.3, name = 'drop6_2')(fc2)\n",
        "    fc3 = Dense(1000,activation='relu', name='fc3')(drop6_2)\n",
        "    # Output layer\n",
        "    ouput = Dense(num_classes, activation='softmax', name = 'output')(fc3)\n",
        "\n",
        "    # create model \n",
        "    model = Model(inputs =visible, outputs = ouput)\n",
        "    # summary layers\n",
        "    print(model.summary())\n",
        "    \n",
        "    return model"
      ],
      "execution_count": null,
      "outputs": []
    },
    {
      "cell_type": "code",
      "metadata": {
        "id": "sT7-Hq_ECHRp",
        "colab": {
          "base_uri": "https://localhost:8080/"
        },
        "outputId": "9c1b590f-f8a2-416c-b510-48cf6729acd4"
      },
      "source": [
        "model_vgg_plus = VGG_Model_plus()\n",
        "model_vgg_plus.compile(loss='categorical_crossentropy', optimizer=optimizer, metrics=['accuracy'])"
      ],
      "execution_count": null,
      "outputs": [
        {
          "output_type": "stream",
          "text": [
            "Model: \"model_1\"\n",
            "_________________________________________________________________\n",
            "Layer (type)                 Output Shape              Param #   \n",
            "=================================================================\n",
            "input (InputLayer)           [(None, 48, 48, 1)]       0         \n",
            "_________________________________________________________________\n",
            "conv1_1 (Conv2D)             (None, 48, 48, 64)        640       \n",
            "_________________________________________________________________\n",
            "batch_normalization_16 (Batc (None, 48, 48, 64)        256       \n",
            "_________________________________________________________________\n",
            "conv1_2 (Conv2D)             (None, 48, 48, 64)        36928     \n",
            "_________________________________________________________________\n",
            "batch_normalization_17 (Batc (None, 48, 48, 64)        256       \n",
            "_________________________________________________________________\n",
            "pool1_1 (MaxPooling2D)       (None, 24, 24, 64)        0         \n",
            "_________________________________________________________________\n",
            "drop1_1 (Dropout)            (None, 24, 24, 64)        0         \n",
            "_________________________________________________________________\n",
            "conv2_1 (Conv2D)             (None, 24, 24, 128)       73856     \n",
            "_________________________________________________________________\n",
            "batch_normalization_18 (Batc (None, 24, 24, 128)       512       \n",
            "_________________________________________________________________\n",
            "conv2_2 (Conv2D)             (None, 24, 24, 128)       147584    \n",
            "_________________________________________________________________\n",
            "batch_normalization_19 (Batc (None, 24, 24, 128)       512       \n",
            "_________________________________________________________________\n",
            "pool2_1 (MaxPooling2D)       (None, 12, 12, 128)       0         \n",
            "_________________________________________________________________\n",
            "drop2_1 (Dropout)            (None, 12, 12, 128)       0         \n",
            "_________________________________________________________________\n",
            "conv3_1 (Conv2D)             (None, 12, 12, 256)       295168    \n",
            "_________________________________________________________________\n",
            "batch_normalization_20 (Batc (None, 12, 12, 256)       1024      \n",
            "_________________________________________________________________\n",
            "conv3_2 (Conv2D)             (None, 12, 12, 256)       590080    \n",
            "_________________________________________________________________\n",
            "batch_normalization_21 (Batc (None, 12, 12, 256)       1024      \n",
            "_________________________________________________________________\n",
            "conv3_3 (Conv2D)             (None, 12, 12, 256)       590080    \n",
            "_________________________________________________________________\n",
            "batch_normalization_22 (Batc (None, 12, 12, 256)       1024      \n",
            "_________________________________________________________________\n",
            "conv3_4 (Conv2D)             (None, 12, 12, 256)       590080    \n",
            "_________________________________________________________________\n",
            "batch_normalization_23 (Batc (None, 12, 12, 256)       1024      \n",
            "_________________________________________________________________\n",
            "pool3_1 (MaxPooling2D)       (None, 6, 6, 256)         0         \n",
            "_________________________________________________________________\n",
            "drop3_1 (Dropout)            (None, 6, 6, 256)         0         \n",
            "_________________________________________________________________\n",
            "conv4_1 (Conv2D)             (None, 6, 6, 512)         1180160   \n",
            "_________________________________________________________________\n",
            "batch_normalization_24 (Batc (None, 6, 6, 512)         2048      \n",
            "_________________________________________________________________\n",
            "conv4_2 (Conv2D)             (None, 6, 6, 512)         2359808   \n",
            "_________________________________________________________________\n",
            "batch_normalization_25 (Batc (None, 6, 6, 512)         2048      \n",
            "_________________________________________________________________\n",
            "conv4_3 (Conv2D)             (None, 6, 6, 512)         2359808   \n",
            "_________________________________________________________________\n",
            "batch_normalization_26 (Batc (None, 6, 6, 512)         2048      \n",
            "_________________________________________________________________\n",
            "conv4_4 (Conv2D)             (None, 6, 6, 512)         2359808   \n",
            "_________________________________________________________________\n",
            "batch_normalization_27 (Batc (None, 6, 6, 512)         2048      \n",
            "_________________________________________________________________\n",
            "pool4_1 (MaxPooling2D)       (None, 3, 3, 512)         0         \n",
            "_________________________________________________________________\n",
            "drop4_1 (Dropout)            (None, 3, 3, 512)         0         \n",
            "_________________________________________________________________\n",
            "conv5_1 (Conv2D)             (None, 3, 3, 512)         2359808   \n",
            "_________________________________________________________________\n",
            "batch_normalization_28 (Batc (None, 3, 3, 512)         2048      \n",
            "_________________________________________________________________\n",
            "conv5_2 (Conv2D)             (None, 3, 3, 512)         2359808   \n",
            "_________________________________________________________________\n",
            "batch_normalization_29 (Batc (None, 3, 3, 512)         2048      \n",
            "_________________________________________________________________\n",
            "conv5_3 (Conv2D)             (None, 3, 3, 512)         2359808   \n",
            "_________________________________________________________________\n",
            "batch_normalization_30 (Batc (None, 3, 3, 512)         2048      \n",
            "_________________________________________________________________\n",
            "batch_normalization_31 (Batc (None, 3, 3, 512)         2048      \n",
            "_________________________________________________________________\n",
            "pool5_1 (MaxPooling2D)       (None, 1, 1, 512)         0         \n",
            "_________________________________________________________________\n",
            "drop5_1 (Dropout)            (None, 1, 1, 512)         0         \n",
            "_________________________________________________________________\n",
            "flatten (Flatten)            (None, 512)               0         \n",
            "_________________________________________________________________\n",
            "fc1 (Dense)                  (None, 4096)              2101248   \n",
            "_________________________________________________________________\n",
            "drop6_1 (Dropout)            (None, 4096)              0         \n",
            "_________________________________________________________________\n",
            "fc2 (Dense)                  (None, 4096)              16781312  \n",
            "_________________________________________________________________\n",
            "drop6_2 (Dropout)            (None, 4096)              0         \n",
            "_________________________________________________________________\n",
            "fc3 (Dense)                  (None, 1000)              4097000   \n",
            "_________________________________________________________________\n",
            "output (Dense)               (None, 7)                 7007      \n",
            "=================================================================\n",
            "Total params: 40,672,007\n",
            "Trainable params: 40,660,999\n",
            "Non-trainable params: 11,008\n",
            "_________________________________________________________________\n",
            "None\n"
          ],
          "name": "stdout"
        }
      ]
    },
    {
      "cell_type": "code",
      "metadata": {
        "id": "kmt6fiOjCP-A",
        "colab": {
          "base_uri": "https://localhost:8080/",
          "height": 442
        },
        "outputId": "b6c1c733-9361-477e-81ef-ec92858e1bef"
      },
      "source": [
        "# adding shuffle and callbacks\n",
        "#callbacks = [early_stopping_callback_vgg, checkpoint_vgg]\n",
        "if fit_vgg_plus == True:\n",
        "    hist_2 = model_vgg_plus.fit(x_train, y_train, epochs = epochs_vgg, validation_data=(x_val, y_val), batch_size=bs, verbose = 1, shuffle=True, callbacks=[early_stopping_callback_vgg,checkpoint_vgg])\n",
        "else:\n",
        "    hist_2 = model_vgg_plus.load_weights(model_vgg_plus_path + version + str(epochs_vgg) + \"_weights.h5\")"
      ],
      "execution_count": null,
      "outputs": [
        {
          "output_type": "error",
          "ename": "OSError",
          "evalue": "ignored",
          "traceback": [
            "\u001b[0;31m---------------------------------------------------------------------------\u001b[0m",
            "\u001b[0;31mOSError\u001b[0m                                   Traceback (most recent call last)",
            "\u001b[0;32m<ipython-input-33-1d3a81f4691d>\u001b[0m in \u001b[0;36m<module>\u001b[0;34m()\u001b[0m\n\u001b[1;32m      4\u001b[0m     \u001b[0mhist_2\u001b[0m \u001b[0;34m=\u001b[0m \u001b[0mmodel_vgg_plus\u001b[0m\u001b[0;34m.\u001b[0m\u001b[0mfit\u001b[0m\u001b[0;34m(\u001b[0m\u001b[0mx_train\u001b[0m\u001b[0;34m,\u001b[0m \u001b[0my_train\u001b[0m\u001b[0;34m,\u001b[0m \u001b[0mepochs\u001b[0m \u001b[0;34m=\u001b[0m \u001b[0mepochs_vgg\u001b[0m\u001b[0;34m,\u001b[0m \u001b[0mvalidation_data\u001b[0m\u001b[0;34m=\u001b[0m\u001b[0;34m(\u001b[0m\u001b[0mx_val\u001b[0m\u001b[0;34m,\u001b[0m \u001b[0my_val\u001b[0m\u001b[0;34m)\u001b[0m\u001b[0;34m,\u001b[0m \u001b[0mbatch_size\u001b[0m\u001b[0;34m=\u001b[0m\u001b[0mbs\u001b[0m\u001b[0;34m,\u001b[0m \u001b[0mverbose\u001b[0m \u001b[0;34m=\u001b[0m \u001b[0;36m1\u001b[0m\u001b[0;34m,\u001b[0m \u001b[0mshuffle\u001b[0m\u001b[0;34m=\u001b[0m\u001b[0;32mTrue\u001b[0m\u001b[0;34m,\u001b[0m \u001b[0mcallbacks\u001b[0m\u001b[0;34m=\u001b[0m\u001b[0;34m[\u001b[0m\u001b[0mearly_stopping_callback_vgg\u001b[0m\u001b[0;34m,\u001b[0m\u001b[0mcheckpoint_vgg\u001b[0m\u001b[0;34m]\u001b[0m\u001b[0;34m)\u001b[0m\u001b[0;34m\u001b[0m\u001b[0;34m\u001b[0m\u001b[0m\n\u001b[1;32m      5\u001b[0m \u001b[0;32melse\u001b[0m\u001b[0;34m:\u001b[0m\u001b[0;34m\u001b[0m\u001b[0;34m\u001b[0m\u001b[0m\n\u001b[0;32m----> 6\u001b[0;31m     \u001b[0mhist_2\u001b[0m \u001b[0;34m=\u001b[0m \u001b[0mmodel_vgg_plus\u001b[0m\u001b[0;34m.\u001b[0m\u001b[0mload_weights\u001b[0m\u001b[0;34m(\u001b[0m\u001b[0mmodel_vgg_plus_path\u001b[0m \u001b[0;34m+\u001b[0m \u001b[0mversion\u001b[0m \u001b[0;34m+\u001b[0m \u001b[0mstr\u001b[0m\u001b[0;34m(\u001b[0m\u001b[0mepochs_vgg\u001b[0m\u001b[0;34m)\u001b[0m \u001b[0;34m+\u001b[0m \u001b[0;34m\"_weights.h5\"\u001b[0m\u001b[0;34m)\u001b[0m\u001b[0;34m\u001b[0m\u001b[0;34m\u001b[0m\u001b[0m\n\u001b[0m",
            "\u001b[0;32m/usr/local/lib/python3.7/dist-packages/keras/engine/training.py\u001b[0m in \u001b[0;36mload_weights\u001b[0;34m(self, filepath, by_name, skip_mismatch, options)\u001b[0m\n\u001b[1;32m   2292\u001b[0m           'first, then load the weights.')\n\u001b[1;32m   2293\u001b[0m     \u001b[0mself\u001b[0m\u001b[0;34m.\u001b[0m\u001b[0m_assert_weights_created\u001b[0m\u001b[0;34m(\u001b[0m\u001b[0;34m)\u001b[0m\u001b[0;34m\u001b[0m\u001b[0;34m\u001b[0m\u001b[0m\n\u001b[0;32m-> 2294\u001b[0;31m     \u001b[0;32mwith\u001b[0m \u001b[0mh5py\u001b[0m\u001b[0;34m.\u001b[0m\u001b[0mFile\u001b[0m\u001b[0;34m(\u001b[0m\u001b[0mfilepath\u001b[0m\u001b[0;34m,\u001b[0m \u001b[0;34m'r'\u001b[0m\u001b[0;34m)\u001b[0m \u001b[0;32mas\u001b[0m \u001b[0mf\u001b[0m\u001b[0;34m:\u001b[0m\u001b[0;34m\u001b[0m\u001b[0;34m\u001b[0m\u001b[0m\n\u001b[0m\u001b[1;32m   2295\u001b[0m       \u001b[0;32mif\u001b[0m \u001b[0;34m'layer_names'\u001b[0m \u001b[0;32mnot\u001b[0m \u001b[0;32min\u001b[0m \u001b[0mf\u001b[0m\u001b[0;34m.\u001b[0m\u001b[0mattrs\u001b[0m \u001b[0;32mand\u001b[0m \u001b[0;34m'model_weights'\u001b[0m \u001b[0;32min\u001b[0m \u001b[0mf\u001b[0m\u001b[0;34m:\u001b[0m\u001b[0;34m\u001b[0m\u001b[0;34m\u001b[0m\u001b[0m\n\u001b[1;32m   2296\u001b[0m         \u001b[0mf\u001b[0m \u001b[0;34m=\u001b[0m \u001b[0mf\u001b[0m\u001b[0;34m[\u001b[0m\u001b[0;34m'model_weights'\u001b[0m\u001b[0;34m]\u001b[0m\u001b[0;34m\u001b[0m\u001b[0;34m\u001b[0m\u001b[0m\n",
            "\u001b[0;32m/usr/local/lib/python3.7/dist-packages/h5py/_hl/files.py\u001b[0m in \u001b[0;36m__init__\u001b[0;34m(self, name, mode, driver, libver, userblock_size, swmr, rdcc_nslots, rdcc_nbytes, rdcc_w0, track_order, fs_strategy, fs_persist, fs_threshold, **kwds)\u001b[0m\n\u001b[1;32m    425\u001b[0m                                fapl, fcpl=make_fcpl(track_order=track_order, fs_strategy=fs_strategy,\n\u001b[1;32m    426\u001b[0m                                fs_persist=fs_persist, fs_threshold=fs_threshold),\n\u001b[0;32m--> 427\u001b[0;31m                                swmr=swmr)\n\u001b[0m\u001b[1;32m    428\u001b[0m \u001b[0;34m\u001b[0m\u001b[0m\n\u001b[1;32m    429\u001b[0m             \u001b[0;32mif\u001b[0m \u001b[0misinstance\u001b[0m\u001b[0;34m(\u001b[0m\u001b[0mlibver\u001b[0m\u001b[0;34m,\u001b[0m \u001b[0mtuple\u001b[0m\u001b[0;34m)\u001b[0m\u001b[0;34m:\u001b[0m\u001b[0;34m\u001b[0m\u001b[0;34m\u001b[0m\u001b[0m\n",
            "\u001b[0;32m/usr/local/lib/python3.7/dist-packages/h5py/_hl/files.py\u001b[0m in \u001b[0;36mmake_fid\u001b[0;34m(name, mode, userblock_size, fapl, fcpl, swmr)\u001b[0m\n\u001b[1;32m    188\u001b[0m         \u001b[0;32mif\u001b[0m \u001b[0mswmr\u001b[0m \u001b[0;32mand\u001b[0m \u001b[0mswmr_support\u001b[0m\u001b[0;34m:\u001b[0m\u001b[0;34m\u001b[0m\u001b[0;34m\u001b[0m\u001b[0m\n\u001b[1;32m    189\u001b[0m             \u001b[0mflags\u001b[0m \u001b[0;34m|=\u001b[0m \u001b[0mh5f\u001b[0m\u001b[0;34m.\u001b[0m\u001b[0mACC_SWMR_READ\u001b[0m\u001b[0;34m\u001b[0m\u001b[0;34m\u001b[0m\u001b[0m\n\u001b[0;32m--> 190\u001b[0;31m         \u001b[0mfid\u001b[0m \u001b[0;34m=\u001b[0m \u001b[0mh5f\u001b[0m\u001b[0;34m.\u001b[0m\u001b[0mopen\u001b[0m\u001b[0;34m(\u001b[0m\u001b[0mname\u001b[0m\u001b[0;34m,\u001b[0m \u001b[0mflags\u001b[0m\u001b[0;34m,\u001b[0m \u001b[0mfapl\u001b[0m\u001b[0;34m=\u001b[0m\u001b[0mfapl\u001b[0m\u001b[0;34m)\u001b[0m\u001b[0;34m\u001b[0m\u001b[0;34m\u001b[0m\u001b[0m\n\u001b[0m\u001b[1;32m    191\u001b[0m     \u001b[0;32melif\u001b[0m \u001b[0mmode\u001b[0m \u001b[0;34m==\u001b[0m \u001b[0;34m'r+'\u001b[0m\u001b[0;34m:\u001b[0m\u001b[0;34m\u001b[0m\u001b[0;34m\u001b[0m\u001b[0m\n\u001b[1;32m    192\u001b[0m         \u001b[0mfid\u001b[0m \u001b[0;34m=\u001b[0m \u001b[0mh5f\u001b[0m\u001b[0;34m.\u001b[0m\u001b[0mopen\u001b[0m\u001b[0;34m(\u001b[0m\u001b[0mname\u001b[0m\u001b[0;34m,\u001b[0m \u001b[0mh5f\u001b[0m\u001b[0;34m.\u001b[0m\u001b[0mACC_RDWR\u001b[0m\u001b[0;34m,\u001b[0m \u001b[0mfapl\u001b[0m\u001b[0;34m=\u001b[0m\u001b[0mfapl\u001b[0m\u001b[0;34m)\u001b[0m\u001b[0;34m\u001b[0m\u001b[0;34m\u001b[0m\u001b[0m\n",
            "\u001b[0;32mh5py/_objects.pyx\u001b[0m in \u001b[0;36mh5py._objects.with_phil.wrapper\u001b[0;34m()\u001b[0m\n",
            "\u001b[0;32mh5py/_objects.pyx\u001b[0m in \u001b[0;36mh5py._objects.with_phil.wrapper\u001b[0;34m()\u001b[0m\n",
            "\u001b[0;32mh5py/h5f.pyx\u001b[0m in \u001b[0;36mh5py.h5f.open\u001b[0;34m()\u001b[0m\n",
            "\u001b[0;31mOSError\u001b[0m: Unable to open file (unable to open file: name = '/content/drive/My Drive/FER_MODEL/model_vgg_plus_FER_V1_56_weights.h5', errno = 2, error message = 'No such file or directory', flags = 0, o_flags = 0)"
          ]
        }
      ]
    },
    {
      "cell_type": "code",
      "metadata": {
        "id": "MgxwFLDFEZ-f"
      },
      "source": [
        "if fit_vgg_plus == True:\n",
        "  visual_acc(hist_2)"
      ],
      "execution_count": null,
      "outputs": []
    },
    {
      "cell_type": "code",
      "metadata": {
        "id": "cZLz1DTYEeca"
      },
      "source": [
        "if fit_vgg_plus == True:\n",
        "  visual_loss(hist_2)"
      ],
      "execution_count": null,
      "outputs": []
    },
    {
      "cell_type": "code",
      "metadata": {
        "id": "0r7g5zxJH7QP"
      },
      "source": [
        "if fit_vgg_plus == True:\n",
        "  y_pred_keras = model_vgg_plus.predict(x_test)\n",
        "\n",
        "  model_vgg_plus.compile(loss='categorical_crossentropy', \n",
        "              optimizer=keras.optimizers.Adam(),\n",
        "              metrics=['accuracy']             )\n",
        "\n",
        "\n",
        "  score = model_vgg_plus.evaluate(x_train, y_train)\n",
        "  print('Train loss: ', score[0])\n",
        "  print(\"Train accuracy: %.2f%%\" % (100*score[1]))\n",
        "\n",
        "  score = model_vgg_plus.evaluate(x_val, y_val)\n",
        "  print('Validation loss: ', score[0])\n",
        "  print(\"Validation accuracy: %.2f%%\" % (100*score[1]))\n",
        "  print(model_vgg_plus.metrics_names)\n",
        "\n",
        "  score = model_vgg_plus.evaluate(x_test, y_test)\n",
        "  print('Test loss: ', score[0])\n",
        "  print(\"Test accuracy: %.2f%%\" % (100*score[1]))\n",
        "  print(model_vgg_plus.metrics_names)"
      ],
      "execution_count": null,
      "outputs": []
    },
    {
      "cell_type": "code",
      "metadata": {
        "id": "lHBruv33FJdY"
      },
      "source": [
        "!git clone https://github.com/keras-team/keras-tuner.git"
      ],
      "execution_count": null,
      "outputs": []
    },
    {
      "cell_type": "code",
      "metadata": {
        "id": "uYXN0eIfFPYB"
      },
      "source": [
        "%cd keras-tuner\n",
        "!pip install ."
      ],
      "execution_count": null,
      "outputs": []
    },
    {
      "cell_type": "code",
      "metadata": {
        "id": "WvarC-i8TeJJ"
      },
      "source": [
        "from kerastuner import Hyperband"
      ],
      "execution_count": null,
      "outputs": []
    },
    {
      "cell_type": "code",
      "metadata": {
        "id": "-bLHzYG4G6hb"
      },
      "source": [
        "# Функция построения модели VGG с тюнером\n",
        "def build_VGG_tuner(hp):\n",
        "  activation_choice = hp.Choice('activation', values=['relu', 'sigmoid', 'tanh', 'linear'])\n",
        "  hidden_layers_choice = hp.Choice('hidden_layers', values=[2, 3, 4, 5, 6, 7, 8])\n",
        "  #optimizer_choice = hp.Choice('optimizer', values=['adam', 'Adagrad, SGD'])\n",
        "  kernel_choice = hp.Choice('kernel_size', values=[3, 5, 7])\n",
        "  dropout_choice = hp.Choice('rate', values=[0.1, 0.2, 0.3, 0.4])\n",
        "  num_classes = 7\n",
        "  \n",
        "\n",
        "  model = Sequential()\n",
        "  # first input model\n",
        "  #model.add(Input(shape=(48,48,1)))\n",
        "  \n",
        "  #the 1-st block\n",
        "  model.add(Conv2D(64, kernel_size=kernel_choice, input_shape = (48,48,1), activation='relu', padding='same', name = 'conv1_1'))\n",
        "  model.add(BatchNormalization())\n",
        "  model.add(Conv2D(64, kernel_size=kernel_choice, activation='relu', padding='same', name = 'conv1_2'))\n",
        "  model.add(BatchNormalization())\n",
        "\n",
        "  model.add(MaxPool2D(pool_size=(2,2), name = 'pool1_1'))\n",
        "  model.add(Dropout(dropout_choice, name = 'drop1_1'))\n",
        "\n",
        "  #the 2-nd block\n",
        "  model.add(Conv2D(128, kernel_size=kernel_choice, activation='relu', padding='same', name = 'conv2_1'))\n",
        "  model.add(BatchNormalization())\n",
        "  model.add(Conv2D(128, kernel_size=kernel_choice, activation='relu', padding='same', name = 'conv2_2'))\n",
        "  model.add(BatchNormalization())\n",
        "\n",
        "  model.add(MaxPool2D(pool_size=(2,2), name = 'pool2_1'))\n",
        "  model.add(Dropout(dropout_choice, name = 'drop2_1'))\n",
        "\n",
        "  #the 3-rd block\n",
        "  model.add(Conv2D(256, kernel_size=kernel_choice, activation='relu', padding='same', name = 'conv3_1'))\n",
        "  model.add(BatchNormalization())\n",
        "  model.add(Conv2D(256, kernel_size=kernel_choice, activation='relu', padding='same', name = 'conv3_2'))\n",
        "  model.add(BatchNormalization())\n",
        "  model.add(Conv2D(256, kernel_size=kernel_choice, activation='relu', padding='same', name = 'conv3_3'))\n",
        "  model.add(BatchNormalization())\n",
        "  model.add(Conv2D(256, kernel_size=kernel_choice, activation='relu', padding='same', name = 'conv3_4'))\n",
        "  model.add(BatchNormalization())\n",
        "  model.add(MaxPool2D(pool_size=(2,2), name = 'pool3_1'))\n",
        "  model.add(Dropout(dropout_choice, name = 'drop3_1'))\n",
        "\n",
        "  #the 4-th block\n",
        "  model.add(Conv2D(512, kernel_size=kernel_choice, activation='relu', padding='same', name = 'conv4_1'))\n",
        "  model.add(BatchNormalization())\n",
        "  model.add(Conv2D(512, kernel_size=kernel_choice, activation='relu', padding='same', name = 'conv4_2'))\n",
        "  model.add(BatchNormalization())\n",
        "  model.add(Conv2D(512, kernel_size=kernel_choice, activation='relu', padding='same', name = 'conv4_3'))\n",
        "  model.add( BatchNormalization())\n",
        "  model.add( Conv2D(512, kernel_size=kernel_choice, activation='relu', padding='same', name = 'conv4_4'))\n",
        "  model.add( BatchNormalization())\n",
        "\n",
        "  model.add( MaxPool2D(pool_size=(2,2), name = 'pool4_1'))\n",
        "  model.add( Dropout(dropout_choice, name = 'drop4_1'))\n",
        "\n",
        "  #the 5-th block\n",
        "  model.add( Conv2D(512, kernel_size=kernel_choice, activation='relu', padding='same', name = 'conv5_1'))\n",
        "  model.add( BatchNormalization())\n",
        "  model.add( Conv2D(512, kernel_size=kernel_choice, activation='relu', padding='same', name = 'conv5_2'))\n",
        "  model.add( BatchNormalization())\n",
        "  model.add( Conv2D(512, kernel_size=kernel_choice, activation='relu', padding='same', name = 'conv5_3'))\n",
        "  model.add( BatchNormalization())\n",
        "  model.add( Conv2D(512, kernel_size=kernel_choice, activation='relu', padding='same', name = 'conv5_4'))\n",
        "  model.add( BatchNormalization())\n",
        "\n",
        "  model.add( MaxPool2D(pool_size=(2,2), name = 'pool5_1'))\n",
        "  model.add( Dropout(dropout_choice, name = 'drop5_1'))\n",
        "\n",
        "  model.add(Flatten())\n",
        "\n",
        "  for i in range(hidden_layers_choice):\n",
        "    model.add(Dense(units=hp.Int(f'layer_{i + 1}_units', min_value=128 // (i + 1),\n",
        "                    max_value=1024 // (i + 1), step=32 // (i + 1),), activation=activation_choice))\n",
        "    model.add( Dropout(dropout_choice))\n",
        "  \n",
        "  model.add(Dropout(dropout_choice))\n",
        "  #output\n",
        "  model.add(Dense(num_classes, activation='softmax', name = 'output'))\n",
        "\n",
        "  model.compile(loss='categorical_crossentropy', optimizer='adam', metrics=['accuracy'])\n",
        "\n",
        "  return model"
      ],
      "execution_count": null,
      "outputs": []
    },
    {
      "cell_type": "code",
      "metadata": {
        "id": "HGaICdoyHFWs"
      },
      "source": [
        "# Тюнер\n",
        "from kerastuner.tuners import Hyperband\n",
        "from tensorflow.python.keras.layers import Dense, Dropout\n",
        "from tensorflow.python.keras.models import Sequential\n",
        "tuner = Hyperband(\n",
        "    build_VGG_tuner,\n",
        "    objective='val_accuracy',\n",
        "    max_trials = 25 ,\n",
        "    directory=\"/content/drive/My Drive/FER_MODEL/Tuner\")"
      ],
      "execution_count": null,
      "outputs": []
    },
    {
      "cell_type": "code",
      "metadata": {
        "id": "jMN3dG5AHMxg"
      },
      "source": [
        "tuner.search_space_summary()"
      ],
      "execution_count": null,
      "outputs": []
    },
    {
      "cell_type": "code",
      "metadata": {
        "id": "PkrG2-6UHQww"
      },
      "source": [
        "tuner.search(x_train,                  # Данные для обучения\n",
        "             y_train,                  # Правильные ответы\n",
        "             batch_size=bs,           # Размер мини-выборки\n",
        "             epochs=15,                # Количество эпох обучения \n",
        "             validation_data=(x_val, y_val),     # Часть данных, которая будет использоваться для проверки\n",
        "             verbose=1,\n",
        "             )"
      ],
      "execution_count": null,
      "outputs": []
    },
    {
      "cell_type": "code",
      "metadata": {
        "id": "Sjwc3GUaHTUZ"
      },
      "source": [
        "best_hps = tuner.get_best_hyperparameters()[0]\n",
        "model_tuner = tuner.hypermodel.build(best_hps)\n",
        "#model_tuner.summary()"
      ],
      "execution_count": null,
      "outputs": []
    },
    {
      "cell_type": "code",
      "metadata": {
        "id": "8RwlSi4m7ofQ"
      },
      "source": [
        "# Сохранение весов в процессе обучения\n",
        "from keras.callbacks import ModelCheckpoint\n",
        "weights_file_vgg_tuner = model_vgg_tuner_path + version + str(epochs_vgg)\n",
        "checkpoint_tuner = ModelCheckpoint(weights_file_vgg_tuner, monitor='val_accuracy', mode='max', save_best_only=True, verbose=1)"
      ],
      "execution_count": null,
      "outputs": []
    },
    {
      "cell_type": "code",
      "metadata": {
        "id": "59-bo7um79D-"
      },
      "source": [
        "early_stopping_callback_tuner = EarlyStopping(monitor='val_accuracy', patience = patience)"
      ],
      "execution_count": null,
      "outputs": []
    },
    {
      "cell_type": "code",
      "metadata": {
        "id": "qDD91L2PHal3"
      },
      "source": [
        "if fit_vgg_tuner == True:\n",
        "  hist_tuner = model_tuner.fit(x_train, y_train, epochs=200, batch_size=bs, validation_data=(x_val, y_val) , verbose=2, shuffle=True, callbacks=[early_stopping_callback_tuner, checkpoint_tuner])"
      ],
      "execution_count": null,
      "outputs": []
    },
    {
      "cell_type": "code",
      "metadata": {
        "id": "RCqxXBtrTMRr"
      },
      "source": [
        "if fit_vgg_tuner == True:\n",
        " \n",
        "  visual_acc(hist_tuner)"
      ],
      "execution_count": null,
      "outputs": []
    },
    {
      "cell_type": "code",
      "metadata": {
        "id": "DdNLRw6oTPEV"
      },
      "source": [
        "if fit_vgg_tuner == True:\n",
        "  visual_loss(hist_tuner)"
      ],
      "execution_count": null,
      "outputs": []
    },
    {
      "cell_type": "code",
      "metadata": {
        "id": "ksmQOwwpLKsT"
      },
      "source": [
        "if fit_vgg_tuner == True:\n",
        "  y_pred_keras = model_tuner.predict(x_test)\n",
        "\n",
        "  model_tuner.compile(loss='categorical_crossentropy', \n",
        "              optimizer=keras.optimizers.Adam(),\n",
        "              metrics=['accuracy']             )\n",
        "\n",
        "\n",
        "  score = model_tuner.evaluate(x_train, y_train)\n",
        "  print('Train loss: ', score[0])\n",
        "  print(\"Train accuracy: %.2f%%\" % (100*score[1]))\n",
        "\n",
        "  score = model_tuner.evaluate(x_val, y_val)\n",
        "  print('Validation loss: ', score[0])\n",
        "  print(\"Validation accuracy: %.2f%%\" % (100*score[1]))\n",
        "  print(model_tuner.metrics_names)\n",
        "\n",
        "  score = model_tuner.evaluate(x_test, y_test)\n",
        "  print('Test loss: ', score[0])\n",
        "  print(\"Test accuracy: %.2f%%\" % (100*score[1]))\n",
        "  print(model_tuner.metrics_names)"
      ],
      "execution_count": null,
      "outputs": []
    },
    {
      "cell_type": "code",
      "metadata": {
        "id": "XzPSq5r8Ksrs"
      },
      "source": [
        " model_tuner.summary()"
      ],
      "execution_count": null,
      "outputs": []
    },
    {
      "cell_type": "code",
      "metadata": {
        "id": "lA9l2B6NB4oP"
      },
      "source": [
        "!pip install mtcnn"
      ],
      "execution_count": null,
      "outputs": []
    },
    {
      "cell_type": "code",
      "metadata": {
        "id": "TRCPBKL1M_2t"
      },
      "source": [
        "def emotion_analysis(emotions):\n",
        "    objects = ('angry', 'disgust', 'fear', 'happy',  'sad', 'surprise', 'neutral')\n",
        "    y_pos = np.arange(len(objects))\n",
        "    \n",
        "    plt.bar(y_pos, emotions, align='center', alpha=0.5)\n",
        "    plt.xticks(y_pos, objects)\n",
        "    plt.ylabel('percentage')\n",
        "    plt.title('emotion')\n",
        "    \n",
        "    plt.show()"
      ],
      "execution_count": null,
      "outputs": []
    },
    {
      "cell_type": "code",
      "metadata": {
        "id": "KkJRY33KB3hX"
      },
      "source": [
        "from keras.preprocessing import image\n",
        "from keras.preprocessing.image import ImageDataGenerator\n",
        "\n",
        "import numpy as np\n",
        "import matplotlib.pyplot as plt\n",
        "import mtcnn\n",
        "from mtcnn.mtcnn import MTCNN\n",
        "import cv2\n",
        "\n",
        "photo = 'me_neutral' + '.jpg'     #SELECT PHOTO HERE!\n",
        "\n",
        "path1 = '/content/drive/My Drive/IMAGES/'\n",
        "file = r'/content/drive/My Drive/IMAGES/'+photo\n",
        "# load image from file\n",
        "pixels = cv2.imread(file, 1)\n",
        "#print(pixels)\n",
        "# create the detector, using default weights\n",
        "detector = MTCNN()\n",
        "face = detector.detect_faces(pixels)[0]['box']\n",
        "print(face)\n",
        "print(pixels.shape)\n",
        "color_face = pixels[face[1]:face[1]+face[3], face[0]:face[0]+face[2]]\n",
        "color_face = cv2.cvtColor(color_face, cv2.COLOR_BGR2RGB)\n",
        "face_gray = cv2.cvtColor(color_face, cv2.COLOR_BGR2GRAY)\n",
        "#plt.imshow(face_gray, cmap='gray', vmin=0, vmax=255)\n",
        "print(face_gray)\n",
        "\n",
        "isWritten = cv2.imwrite('/content/drive/My Drive/GRAY_IMAGES/'+photo, face_gray)\n",
        "if isWritten:\n",
        "    print(\"Сохранено\")\n",
        "\n",
        "path = r'/content/drive/My Drive/GRAY_IMAGES/'+photo\n",
        "true_image = image.load_img(path)\n",
        "img = image.load_img(path, color_mode=\"grayscale\", target_size=(48,48))\n",
        "\n",
        "x = image.img_to_array(img)\n",
        "x = np.expand_dims(x, axis=0)\n",
        "\n",
        "x /= 255\n",
        "\n",
        "# 1st model (model_vgg) prediction\n",
        "#model_vgg model_vgg_plus  model_tuner\n",
        "custom = model_tuner.predict(x)\n",
        "emotion_analysis(custom[0])\n",
        "\n",
        "x = np.array(x, 'float32')\n",
        "x = x.reshape([48, 48])\n",
        "\n",
        "plt.gray()\n",
        "plt.imshow(img)\n",
        "plt.show()"
      ],
      "execution_count": null,
      "outputs": []
    },
    {
      "cell_type": "code",
      "metadata": {
        "id": "pjno_vKTlEA-"
      },
      "source": [
        "# 2nd model (model_vgg_plus) prediction\n",
        "custom = model_vgg_plus.predict(x)\n",
        "emotion_analysis(custom[0])\n",
        "\n",
        "x = np.array(x, 'float32')\n",
        "x = x.reshape([48, 48])\n",
        "\n",
        "plt.gray()\n",
        "plt.imshow(img)\n",
        "plt.show()"
      ],
      "execution_count": null,
      "outputs": []
    },
    {
      "cell_type": "code",
      "metadata": {
        "id": "RboI9PvVlH8y"
      },
      "source": [
        "# 3rd model (model_tuner) prediction\n",
        "custom = model_tuner.predict(x)\n",
        "emotion_analysis(custom[0])\n",
        "\n",
        "x = np.array(x, 'float32')\n",
        "x = x.reshape([48, 48])\n",
        "\n",
        "plt.gray()\n",
        "plt.imshow(img)\n",
        "plt.show()"
      ],
      "execution_count": null,
      "outputs": []
    }
  ]
}